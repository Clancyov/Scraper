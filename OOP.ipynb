{
 "cells": [
  {
   "cell_type": "markdown",
   "metadata": {},
   "source": [
    "<h1 style='color:#FFFFFF;'>Object Oriented Programming in Python</h1>"
   ]
  },
  {
   "cell_type": "markdown",
   "metadata": {},
   "source": [
    "<h2 style='color: #5555ff'>Objects in Python</h2>"
   ]
  },
  {
   "cell_type": "markdown",
   "metadata": {},
   "source": [
    "        python haves a lot of objects that we are working with them daily but some times we forget about them. we can use type() function to check Types of objects."
   ]
  },
  {
   "cell_type": "code",
   "execution_count": 4,
   "metadata": {},
   "outputs": [
    {
     "name": "stdout",
     "output_type": "stream",
     "text": [
      "<class 'str'>\n",
      "<class 'int'>\n",
      "<class 'function'>\n"
     ]
    }
   ],
   "source": [
    "x=10\n",
    "print(type(x))\n",
    "\n",
    "print(type(\"hello\"))\n",
    "\n",
    "def hello():\n",
    "    print(\"hello\")\n",
    "print(type(hello))"
   ]
  },
  {
   "cell_type": "markdown",
   "metadata": {},
   "source": [
    "        every thing that we work with in python is an object of some kind of class.\n",
    "    when ever we are creating something in python its an instance of a specific object.\n",
    "    the class defines the way in which that object can interact with other things in program."
   ]
  },
  {
   "cell_type": "code",
   "execution_count": 5,
   "metadata": {},
   "outputs": [
    {
     "ename": "TypeError",
     "evalue": "unsupported operand type(s) for +: 'int' and 'str'",
     "output_type": "error",
     "traceback": [
      "\u001b[1;31m---------------------------------------------------------------------------\u001b[0m",
      "\u001b[1;31mTypeError\u001b[0m                                 Traceback (most recent call last)",
      "Cell \u001b[1;32mIn[5], line 3\u001b[0m\n\u001b[0;32m      1\u001b[0m x\u001b[38;5;241m=\u001b[39m\u001b[38;5;241m10\u001b[39m\n\u001b[0;32m      2\u001b[0m y\u001b[38;5;241m=\u001b[39m\u001b[38;5;124m\"\u001b[39m\u001b[38;5;124mhello\u001b[39m\u001b[38;5;124m\"\u001b[39m\n\u001b[1;32m----> 3\u001b[0m \u001b[38;5;28mprint\u001b[39m(\u001b[43mx\u001b[49m\u001b[43m \u001b[49m\u001b[38;5;241;43m+\u001b[39;49m\u001b[43m \u001b[49m\u001b[43my\u001b[49m)\n",
      "\u001b[1;31mTypeError\u001b[0m: unsupported operand type(s) for +: 'int' and 'str'"
     ]
    }
   ],
   "source": [
    "x=10\n",
    "y=\"hello\"\n",
    "print(x + y)"
   ]
  },
  {
   "cell_type": "code",
   "execution_count": 6,
   "metadata": {},
   "outputs": [
    {
     "name": "stdout",
     "output_type": "stream",
     "text": [
      "3\n"
     ]
    }
   ],
   "source": [
    "x=1\n",
    "y=2\n",
    "print(x + y)"
   ]
  },
  {
   "cell_type": "markdown",
   "metadata": {},
   "source": [
    "<h2 style='color: #5555ff'>Methods in Python</h2>"
   ]
  },
  {
   "cell_type": "markdown",
   "metadata": {},
   "source": [
    "        every peace of code that does something for us and its in one function is a method."
   ]
  },
  {
   "cell_type": "code",
   "execution_count": 1,
   "metadata": {},
   "outputs": [
    {
     "name": "stdout",
     "output_type": "stream",
     "text": [
      "HELLO\n"
     ]
    },
    {
     "ename": "AttributeError",
     "evalue": "'int' object has no attribute 'upper'",
     "output_type": "error",
     "traceback": [
      "\u001b[1;31m---------------------------------------------------------------------------\u001b[0m",
      "\u001b[1;31mAttributeError\u001b[0m                            Traceback (most recent call last)",
      "Cell \u001b[1;32mIn[1], line 4\u001b[0m\n\u001b[0;32m      2\u001b[0m x\u001b[38;5;241m=\u001b[39m\u001b[38;5;241m1\u001b[39m\n\u001b[0;32m      3\u001b[0m \u001b[38;5;28mprint\u001b[39m(string\u001b[38;5;241m.\u001b[39mupper())\n\u001b[1;32m----> 4\u001b[0m \u001b[38;5;28mprint\u001b[39m(\u001b[43mx\u001b[49m\u001b[38;5;241;43m.\u001b[39;49m\u001b[43mupper\u001b[49m())\n",
      "\u001b[1;31mAttributeError\u001b[0m: 'int' object has no attribute 'upper'"
     ]
    }
   ],
   "source": [
    "string=\"hello\"\n",
    "x=1\n",
    "print(string.upper())\n",
    "print(x.upper())"
   ]
  },
  {
   "cell_type": "markdown",
   "metadata": {},
   "source": [
    "<h2 style='color: #5555ff'>Classes in Python</h2>"
   ]
  },
  {
   "cell_type": "markdown",
   "metadata": {},
   "source": [
    "        classes can contain methods and objects. all methods in a class need to get the \"self\" parameter for being able to be run. we can make instances of classes. \n",
    "        <class '__main__.Dog'> ==>> means that d is is an instance of Dog class in the main module.\n",
    "        we can use methods and objects of a class by typing a point in front of the class name and then typing the name of the object.\n",
    "        also we can define methods in classes."
   ]
  },
  {
   "cell_type": "code",
   "execution_count": 5,
   "metadata": {},
   "outputs": [
    {
     "name": "stdout",
     "output_type": "stream",
     "text": [
      "bark\n",
      "6\n",
      "<class '__main__.Dog'>\n"
     ]
    }
   ],
   "source": [
    "class Dog:\n",
    "\n",
    "    def add_one(self,x):\n",
    "        return x + 1\n",
    "\n",
    "    def bark(self):\n",
    "        print(\"bark\")\n",
    "\n",
    "d=Dog()\n",
    "d.bark()\n",
    "print(d.add_one(5))\n",
    "\n",
    "print(type(d))"
   ]
  },
  {
   "cell_type": "markdown",
   "metadata": {},
   "source": [
    "        __init__:\n",
    "        when ever we make a new instance the initial method will be called automatically. the instance when ever called it; passes the parameter that it haves in the parenthesis.\n",
    "\n",
    "\n",
    "        what the self does is forwarding infos about the instance which we are calling the method through that and.\n",
    "        with self we access attributes without having collision."
   ]
  },
  {
   "cell_type": "code",
   "execution_count": 15,
   "metadata": {},
   "outputs": [
    {
     "name": "stdout",
     "output_type": "stream",
     "text": [
      "tim\n",
      "90 \n",
      "\n",
      "\n",
      "bill\n",
      "12\n"
     ]
    }
   ],
   "source": [
    "class Dog:\n",
    "\n",
    "    def __init__(self, name, age):\n",
    "        self.name = name\n",
    "        self.age = age\n",
    "\n",
    "    def get_name(self):\n",
    "        return self.name\n",
    "    \n",
    "    def get_age(self):\n",
    "        return self.age\n",
    "\n",
    "    def set_age(self,age):\n",
    "        self.age = age\n",
    "\n",
    "\n",
    "d=Dog(\"tim\",34)\n",
    "print(d.get_name())\n",
    "d.set_age(90)\n",
    "print(d.get_age(),\"\\n\\n\")\n",
    "\n",
    "\n",
    "dd=Dog(\"bill\",12)\n",
    "print(dd.name)\n",
    "print(dd.get_age())"
   ]
  },
  {
   "cell_type": "markdown",
   "metadata": {},
   "source": [
    "<h2 style='color: #5555ff'>Multiple classes in Python</h2>"
   ]
  },
  {
   "cell_type": "markdown",
   "metadata": {},
   "source": [
    "        we can have multiple classes in one file (or in multiple files) that they are in communicate with each other."
   ]
  },
  {
   "cell_type": "code",
   "execution_count": 7,
   "metadata": {},
   "outputs": [
    {
     "name": "stdout",
     "output_type": "stream",
     "text": [
      "tim\n",
      "85.0\n"
     ]
    }
   ],
   "source": [
    "class student:\n",
    "\n",
    "    def __init__(self,name,age,grade):\n",
    "        self.name=name\n",
    "        self.age=age\n",
    "        self.grade=grade    #0-100\n",
    "\n",
    "    def get_grade(self):\n",
    "        return self.grade\n",
    "    \n",
    "class Course:\n",
    "\n",
    "    def __init__(self,name,max_students):\n",
    "        self.name=name\n",
    "        self.max_students=max_students\n",
    "        self.students=[]\n",
    "\n",
    "    def add_student(self,student):\n",
    "        if len(self.students)<self.max_students:\n",
    "            self.students.append(student)\n",
    "            return True\n",
    "        return False\n",
    "    \n",
    "    def get_average_grade(self):\n",
    "        Value=0\n",
    "        for student in self.students:\n",
    "            Value+=student.get_grade()\n",
    "        return Value/len(self.students)\n",
    "\n",
    "s1=student(\"tim\",19,95)\n",
    "s2=student(\"bill\",19,75)\n",
    "s3=student(\"jill\",19,65)\n",
    "\n",
    "course=Course(\"science\",2)\n",
    "course.add_student(s1)\n",
    "course.add_student(s2)\n",
    "\n",
    "print(course.students[0].name)\n",
    "print(course.get_average_grade())\n"
   ]
  },
  {
   "cell_type": "markdown",
   "metadata": {},
   "source": [
    "<h2 style='color: #5555ff'>Inheritance in Python</h2>"
   ]
  },
  {
   "cell_type": "markdown",
   "metadata": {},
   "source": [
    "you have 2 classes that they are very similar. so ..."
   ]
  },
  {
   "cell_type": "code",
   "execution_count": 8,
   "metadata": {},
   "outputs": [],
   "source": [
    "class cat:\n",
    "\n",
    "    def __init__(self,name,age):\n",
    "        self.name=name\n",
    "        self.age=age\n",
    "    \n",
    "    def speak(self):\n",
    "        print(\"Meow\")\n",
    "\n",
    "class dog:\n",
    "    \n",
    "    def __init__(self,name,age):\n",
    "        self.name=name\n",
    "        self.age=age\n",
    "\n",
    "    def speak(self):\n",
    "        print(\"bark\")"
   ]
  },
  {
   "cell_type": "code",
   "execution_count": 17,
   "metadata": {},
   "outputs": [
    {
     "name": "stdout",
     "output_type": "stream",
     "text": [
      "Iam tim and i am 19 years old\n",
      "i dont know what i say\n",
      "Iam bill and i am 34 years old\n",
      "Meow\n",
      "Iam jill and i am 25 years old\n",
      "bark\n"
     ]
    }
   ],
   "source": [
    "class pet:\n",
    "\n",
    "    def __init__(self,name,age):\n",
    "        self.name=name\n",
    "        self.age=age\n",
    "\n",
    "    def show(self):\n",
    "        print(f\"Iam {self.name} and i am {self.age} years old\")\n",
    "\n",
    "    def speak(self):\n",
    "        print(\"i dont know what i say\")\n",
    "\n",
    "class cat(pet):\n",
    "\n",
    "    def speak(self):\n",
    "        print(\"Meow\")\n",
    "\n",
    "class dog(pet):\n",
    "\n",
    "    def speak(self):\n",
    "        print(\"bark\")\n",
    "\n",
    "p=pet(\"tim\",19)\n",
    "p.show()\n",
    "p.speak()\n",
    "c=cat(\"bill\",34)\n",
    "c.show()\n",
    "c.speak()\n",
    "d=dog(\"jill\",25)\n",
    "d.show()\n",
    "d.speak()"
   ]
  },
  {
   "cell_type": "code",
   "execution_count": 21,
   "metadata": {},
   "outputs": [
    {
     "name": "stdout",
     "output_type": "stream",
     "text": [
      "Iam tim and i am 19 years old\n",
      "i dont know what i say\n",
      "Iam bill and i am 34 years old and i am grey\n",
      "Meow\n",
      "Iam jill and i am 25 years old\n",
      "bark\n"
     ]
    }
   ],
   "source": [
    "class pet:\n",
    "\n",
    "    def __init__(self,name,age):\n",
    "        self.name=name\n",
    "        self.age=age\n",
    "\n",
    "    def show(self):\n",
    "        print(f\"Iam {self.name} and i am {self.age} years old\")\n",
    "\n",
    "    def speak(self):\n",
    "        print(\"i dont know what i say\")\n",
    "\n",
    "class cat(pet):\n",
    "\n",
    "    def __init__(self, name, age,color):\n",
    "        super().__init__(name, age)\n",
    "        self.color=color\n",
    "    \n",
    "    def show(self):\n",
    "        print(f\"Iam {self.name} and i am {self.age} years old and i am {self.color}\")\n",
    "\n",
    "    def speak(self):\n",
    "        print(\"Meow\")\n",
    "\n",
    "class dog(pet):\n",
    "\n",
    "    def speak(self):\n",
    "        print(\"bark\")\n",
    "\n",
    "p=pet(\"tim\",19)\n",
    "p.show()\n",
    "p.speak()\n",
    "c=cat(\"bill\",34,\"grey\")\n",
    "c.show()\n",
    "c.speak()\n",
    "d=dog(\"jill\",25)\n",
    "d.show()\n",
    "d.speak()"
   ]
  },
  {
   "cell_type": "markdown",
   "metadata": {},
   "source": [
    "<h2 style='color: #5555ff'>Class attributes in Python</h2>"
   ]
  },
  {
   "cell_type": "code",
   "execution_count": 25,
   "metadata": {},
   "outputs": [
    {
     "name": "stdout",
     "output_type": "stream",
     "text": [
      "1\n",
      "2\n"
     ]
    }
   ],
   "source": [
    "class person:\n",
    "\n",
    "    number_of_people=0\n",
    "\n",
    "    def __init__(self,name):\n",
    "\n",
    "        self.name=name\n",
    "        person.number_of_people+=1\n",
    "\n",
    "p1=person(\"tim\")\n",
    "print(p1.number_of_people)\n",
    "\n",
    "p2=person(\"jill\")\n",
    "print(p2.number_of_people)\n"
   ]
  }
 ],
 "metadata": {
  "kernelspec": {
   "display_name": "Python 3",
   "language": "python",
   "name": "python3"
  },
  "language_info": {
   "codemirror_mode": {
    "name": "ipython",
    "version": 3
   },
   "file_extension": ".py",
   "mimetype": "text/x-python",
   "name": "python",
   "nbconvert_exporter": "python",
   "pygments_lexer": "ipython3",
   "version": "3.12.1"
  }
 },
 "nbformat": 4,
 "nbformat_minor": 2
}
